{
 "cells": [
  {
   "cell_type": "code",
   "execution_count": 20,
   "metadata": {},
   "outputs": [
    {
     "name": "stdout",
     "output_type": "stream",
     "text": [
      "Reading Excel file: /Users/chaitanyakartik/Downloads/main_account_statement.xlsx\n",
      "\n",
      "Sheet: Table 1\n",
      "Number of columns: 9\n",
      "Column names: ['Tran Date', 'Chq No', 'Unnamed: 2', 'Unnamed: 3', 'Particulars', 'Debit', 'Credit', 'Balance', 'Init. Br']\n",
      "Sample data (first 2 rows):\n",
      "   Tran Date  Chq No  Unnamed: 2  Unnamed: 3  \\\n",
      "0 2025-08-27     NaN         NaN         NaN   \n",
      "1 2025-08-27     NaN         NaN         NaN   \n",
      "\n",
      "                                         Particulars  Debit  Credit  Balance  \\\n",
      "0  UPI/P2A/523955727509/N S MURAL/AXIS\\nBANK/Sent...    NaN   500.0   544.56   \n",
      "1  UPI/P2M/523965745423/Kanti Sweets-SNS Arca/Sen...   35.0     NaN   509.56   \n",
      "\n",
      "   Init. Br  \n",
      "0      52.0  \n",
      "1      52.0  \n",
      "Column names: {'Table 1': ['Tran Date', 'Chq No', 'Unnamed: 2', 'Unnamed: 3', 'Particulars', 'Debit', 'Credit', 'Balance', 'Init. Br']}\n"
     ]
    }
   ],
   "source": [
    "# Read the Excel file\n",
    "file_path = \"/Users/chaitanyakartik/Downloads/main_account_statement.xlsx\"\n",
    "print(f\"Reading Excel file: {file_path}\")\n",
    "\n",
    "# Get the sheet names first\n",
    "xl = pd.ExcelFile(file_path)\n",
    "sheet_names = xl.sheet_names\n",
    "\n",
    "column_names = {}\n",
    "\n",
    "# Read each sheet and get column names\n",
    "for sheet in sheet_names:\n",
    "    df = pd.read_excel(file_path, sheet_name=sheet)\n",
    "    column_names[sheet] = list(df.columns)\n",
    "    print(f\"\\nSheet: {sheet}\")\n",
    "    print(f\"Number of columns: {len(df.columns)}\")\n",
    "    print(f\"Column names: {df.columns.tolist()}\")\n",
    "    print(f\"Sample data (first 2 rows):\")\n",
    "    print(df.head(2))\n",
    "\n",
    "print(\"Column names:\", column_names)\n",
    "    \n"
   ]
  },
  {
   "cell_type": "code",
   "execution_count": 21,
   "metadata": {},
   "outputs": [
    {
     "data": {
      "text/html": [
       "<div>\n",
       "<style scoped>\n",
       "    .dataframe tbody tr th:only-of-type {\n",
       "        vertical-align: middle;\n",
       "    }\n",
       "\n",
       "    .dataframe tbody tr th {\n",
       "        vertical-align: top;\n",
       "    }\n",
       "\n",
       "    .dataframe thead th {\n",
       "        text-align: right;\n",
       "    }\n",
       "</style>\n",
       "<table border=\"1\" class=\"dataframe\">\n",
       "  <thead>\n",
       "    <tr style=\"text-align: right;\">\n",
       "      <th></th>\n",
       "      <th>Tran Date</th>\n",
       "      <th>Particulars</th>\n",
       "      <th>Debit</th>\n",
       "      <th>Credit</th>\n",
       "      <th>Balance</th>\n",
       "      <th>Category</th>\n",
       "    </tr>\n",
       "  </thead>\n",
       "  <tbody>\n",
       "    <tr>\n",
       "      <th>0</th>\n",
       "      <td>2025-08-27 00:00:00</td>\n",
       "      <td>UPI/P2A/523955727509/N S MURAL/AXIS\\nBANK/Sent...</td>\n",
       "      <td>0.0</td>\n",
       "      <td>500.0</td>\n",
       "      <td>544.56</td>\n",
       "      <td></td>\n",
       "    </tr>\n",
       "    <tr>\n",
       "      <th>1</th>\n",
       "      <td>2025-08-27 00:00:00</td>\n",
       "      <td>UPI/P2M/523965745423/Kanti Sweets-SNS Arca/Sen...</td>\n",
       "      <td>35.0</td>\n",
       "      <td>0.0</td>\n",
       "      <td>509.56</td>\n",
       "      <td></td>\n",
       "    </tr>\n",
       "    <tr>\n",
       "      <th>2</th>\n",
       "      <td>2025-08-27 00:00:00</td>\n",
       "      <td>UPI/P2M/523916293245/Swiggy Limited       /Pay...</td>\n",
       "      <td>233.0</td>\n",
       "      <td>0.0</td>\n",
       "      <td>276.56</td>\n",
       "      <td></td>\n",
       "    </tr>\n",
       "    <tr>\n",
       "      <th>3</th>\n",
       "      <td>2025-08-28 00:00:00</td>\n",
       "      <td>UPI/P2M/524046624617/Chethana M           /Sen...</td>\n",
       "      <td>28.0</td>\n",
       "      <td>0.0</td>\n",
       "      <td>248.56</td>\n",
       "      <td></td>\n",
       "    </tr>\n",
       "    <tr>\n",
       "      <th>4</th>\n",
       "      <td>2025-08-28 00:00:00</td>\n",
       "      <td>UPI/P2M/524036618029/BharatPe Merchant\\n/Pay t...</td>\n",
       "      <td>10.0</td>\n",
       "      <td>0.0</td>\n",
       "      <td>238.56</td>\n",
       "      <td></td>\n",
       "    </tr>\n",
       "  </tbody>\n",
       "</table>\n",
       "</div>"
      ],
      "text/plain": [
       "             Tran Date                                        Particulars  \\\n",
       "0  2025-08-27 00:00:00  UPI/P2A/523955727509/N S MURAL/AXIS\\nBANK/Sent...   \n",
       "1  2025-08-27 00:00:00  UPI/P2M/523965745423/Kanti Sweets-SNS Arca/Sen...   \n",
       "2  2025-08-27 00:00:00  UPI/P2M/523916293245/Swiggy Limited       /Pay...   \n",
       "3  2025-08-28 00:00:00  UPI/P2M/524046624617/Chethana M           /Sen...   \n",
       "4  2025-08-28 00:00:00  UPI/P2M/524036618029/BharatPe Merchant\\n/Pay t...   \n",
       "\n",
       "   Debit  Credit  Balance Category  \n",
       "0    0.0   500.0   544.56           \n",
       "1   35.0     0.0   509.56           \n",
       "2  233.0     0.0   276.56           \n",
       "3   28.0     0.0   248.56           \n",
       "4   10.0     0.0   238.56           "
      ]
     },
     "execution_count": 21,
     "metadata": {},
     "output_type": "execute_result"
    }
   ],
   "source": [
    "# Keep only the specified columns\n",
    "columns_to_keep = ['Tran Date', 'Particulars', 'Debit', 'Credit', 'Balance']\n",
    "df = df[columns_to_keep]\n",
    "df['Category'] = ''\n",
    "\n",
    "# Fill all NaN values with 0\n",
    "df = df.fillna(0)\n",
    "\n",
    "# Display the first few rows to verify\n",
    "df.head()"
   ]
  },
  {
   "cell_type": "code",
   "execution_count": 37,
   "metadata": {},
   "outputs": [
    {
     "name": "stdout",
     "output_type": "stream",
     "text": [
      "Number of transactions categorized as 'Travel': 47\n"
     ]
    }
   ],
   "source": [
    "# Define travel-related strings to search for\n",
    "Travel_List = ['BMTC BUS', 'BUS', 'BUS TICKET', 'BUS FARE', 'BUS CHARGE', \"Metro\"]\n",
    "\n",
    "# Create a regex pattern with alternation of all travel keywords\n",
    "import re\n",
    "travel_pattern = '|'.join(Travel_List)\n",
    "\n",
    "# Fill in 'Travel' category where Particulars contains any of these travel keywords\n",
    "df.loc[df['Particulars'].astype(str).str.contains(travel_pattern, case=False, na=False, regex=True), 'Category'] = 'Travel'\n",
    "\n",
    "# Define pattern for Karnataka vehicle registration numbers\n",
    "import re\n",
    "vehicle_pattern = r'KA\\d{2}[A-Z]{2}\\d{4}'\n",
    "\n",
    "# Find rows matching the vehicle registration pattern\n",
    "vehicle_mask = df['Particulars'].astype(str).str.contains(vehicle_pattern, case=True, na=False, regex=True)\n",
    "\n",
    "# Add these to the Travel category\n",
    "df.loc[vehicle_mask, 'Category'] = 'Travel'\n",
    "\n",
    "# Display the first few rows to see the changes\n",
    "df.head()\n",
    "\n",
    "# Check how many rows were categorized as 'Travel'\n",
    "travel_count = (df['Category'] == 'Travel').sum()\n",
    "print(f\"Number of transactions categorized as 'Travel': {travel_count}\")"
   ]
  },
  {
   "cell_type": "code",
   "execution_count": 45,
   "metadata": {},
   "outputs": [
    {
     "name": "stdout",
     "output_type": "stream",
     "text": [
      "Number of transactions categorized as 'Fuel': 1\n"
     ]
    }
   ],
   "source": [
    "hp_mask = df['Particulars'].astype(str).str.contains(r'\\bHP\\b', case=True, na=False, regex=True)\n",
    "df.loc[hp_mask, 'Category'] = 'Fuel'\n",
    "fuel_count = (df['Category'] == 'Fuel').sum()\n",
    "print(f\"Number of transactions categorized as 'Fuel': {fuel_count}\")\n"
   ]
  },
  {
   "cell_type": "code",
   "execution_count": 48,
   "metadata": {},
   "outputs": [
    {
     "name": "stdout",
     "output_type": "stream",
     "text": [
      "Number of transactions categorized as 'groceries': 6\n"
     ]
    }
   ],
   "source": [
    "# Define grocery-related strings to search for\n",
    "grocery_keywords = ['VILLAGE MARKET', 'Swiggy Limited', 'Family mall', 'HANUMESH']\n",
    "\n",
    "# Create a regex pattern with alternation of all keywords\n",
    "import re\n",
    "pattern = '|'.join(grocery_keywords)\n",
    "\n",
    "# Fill in 'groceries' category where Particulars contains any of these keywords\n",
    "df.loc[df['Particulars'].astype(str).str.contains(pattern, case=False, na=False, regex=True), 'Category'] = 'groceries'\n",
    "\n",
    "# Display the first few rows to see the changes\n",
    "df.head()\n",
    "\n",
    "# Check how many rows were categorized as 'groceries'\n",
    "groceries_count = (df['Category'] == 'groceries').sum()\n",
    "print(f\"Number of transactions categorized as 'groceries': {groceries_count}\")"
   ]
  },
  {
   "cell_type": "code",
   "execution_count": 55,
   "metadata": {},
   "outputs": [
    {
     "name": "stdout",
     "output_type": "stream",
     "text": [
      "Number of transactions categorized as 'Outside Food': 11\n"
     ]
    }
   ],
   "source": [
    "# Define outside food related strings to search for\n",
    "outside_food_list = ['Biryani', 'coffee day', 'cafe', 'foods', 'Pani Puri', 'Biriyani','RESTAURANT', 'MAGICPIN']\n",
    "\n",
    "# Create a regex pattern with alternation of all outside food keywords\n",
    "import re\n",
    "food_pattern = '|'.join(outside_food_list)\n",
    "\n",
    "# Fill in 'Outside Food' category where Particulars contains any of these food keywords\n",
    "df.loc[df['Particulars'].astype(str).str.contains(food_pattern, case=False, na=False, regex=True), 'Category'] = 'Outside Food'\n",
    "\n",
    "# Display the first few rows to see the changes\n",
    "df.head()\n",
    "\n",
    "# Check how many rows were categorized as 'Outside Food'\n",
    "food_count = (df['Category'] == 'Outside Food').sum()\n",
    "print(f\"Number of transactions categorized as 'Outside Food': {food_count}\")"
   ]
  },
  {
   "cell_type": "code",
   "execution_count": 50,
   "metadata": {},
   "outputs": [
    {
     "name": "stdout",
     "output_type": "stream",
     "text": [
      "Number of transactions categorized as 'Order Food': 4\n"
     ]
    }
   ],
   "source": [
    "# Define condition for Order Food category\n",
    "# First create a mask for \"swiggy\"\n",
    "swiggy_mask = df['Particulars'].astype(str).str.contains('swiggy', case=False, na=False)\n",
    "# Then create a mask for \"swiggy limited\"\n",
    "swiggy_limited_mask = df['Particulars'].astype(str).str.contains('swiggy limited', case=False, na=False)\n",
    "# Combine the masks to get entries with \"swiggy\" but not \"swiggy limited\"\n",
    "order_food_mask = swiggy_mask & ~swiggy_limited_mask\n",
    "\n",
    "# Apply the category\n",
    "df.loc[order_food_mask, 'Category'] = 'Order Food'\n",
    "\n",
    "# Check how many rows were categorized as 'Order Food'\n",
    "order_food_count = (df['Category'] == 'Order Food').sum()\n",
    "print(f\"Number of transactions categorized as 'Order Food': {order_food_count}\")"
   ]
  },
  {
   "cell_type": "code",
   "execution_count": 51,
   "metadata": {},
   "outputs": [
    {
     "name": "stdout",
     "output_type": "stream",
     "text": [
      "DataFrame exported successfully to: /Users/chaitanyakartik/Downloads/categorized_transactions.xlsx\n"
     ]
    }
   ],
   "source": [
    "# Make a copy of the DataFrame to avoid modifying the original\n",
    "df_export = df.copy()\n",
    "\n",
    "# Convert the 'Tran Date' column to string if it's not already\n",
    "if pd.api.types.is_datetime64_any_dtype(df_export['Tran Date']):\n",
    "    df_export['Tran Date'] = df_export['Tran Date'].dt.strftime('%Y-%m-%d')\n",
    "else:\n",
    "    df_export['Tran Date'] = df_export['Tran Date'].astype(str)\n",
    "\n",
    "# Define output file path\n",
    "output_path = \"/Users/chaitanyakartik/Downloads/categorized_transactions.xlsx\"\n",
    "\n",
    "# Export DataFrame to Excel\n",
    "df_export.to_excel(output_path, index=False)\n",
    "\n",
    "print(f\"DataFrame exported successfully to: {output_path}\")"
   ]
  },
  {
   "cell_type": "code",
   "execution_count": 52,
   "metadata": {},
   "outputs": [
    {
     "data": {
      "text/html": [
       "<div>\n",
       "<style scoped>\n",
       "    .dataframe tbody tr th:only-of-type {\n",
       "        vertical-align: middle;\n",
       "    }\n",
       "\n",
       "    .dataframe tbody tr th {\n",
       "        vertical-align: top;\n",
       "    }\n",
       "\n",
       "    .dataframe thead th {\n",
       "        text-align: right;\n",
       "    }\n",
       "</style>\n",
       "<table border=\"1\" class=\"dataframe\">\n",
       "  <thead>\n",
       "    <tr style=\"text-align: right;\">\n",
       "      <th></th>\n",
       "      <th>Tran Date</th>\n",
       "      <th>Particulars</th>\n",
       "      <th>Debit</th>\n",
       "      <th>Credit</th>\n",
       "      <th>Balance</th>\n",
       "      <th>Category</th>\n",
       "    </tr>\n",
       "  </thead>\n",
       "  <tbody>\n",
       "    <tr>\n",
       "      <th>0</th>\n",
       "      <td>2025-08-27 00:00:00</td>\n",
       "      <td>UPI/P2A/523955727509/N S MURAL/AXIS\\nBANK/Sent...</td>\n",
       "      <td>0.0</td>\n",
       "      <td>500.0</td>\n",
       "      <td>544.56</td>\n",
       "      <td></td>\n",
       "    </tr>\n",
       "    <tr>\n",
       "      <th>1</th>\n",
       "      <td>2025-08-27 00:00:00</td>\n",
       "      <td>UPI/P2M/523965745423/Kanti Sweets-SNS Arca/Sen...</td>\n",
       "      <td>35.0</td>\n",
       "      <td>0.0</td>\n",
       "      <td>509.56</td>\n",
       "      <td></td>\n",
       "    </tr>\n",
       "    <tr>\n",
       "      <th>2</th>\n",
       "      <td>2025-08-27 00:00:00</td>\n",
       "      <td>UPI/P2M/523916293245/Swiggy Limited       /Pay...</td>\n",
       "      <td>233.0</td>\n",
       "      <td>0.0</td>\n",
       "      <td>276.56</td>\n",
       "      <td>groceries</td>\n",
       "    </tr>\n",
       "    <tr>\n",
       "      <th>3</th>\n",
       "      <td>2025-08-28 00:00:00</td>\n",
       "      <td>UPI/P2M/524046624617/Chethana M           /Sen...</td>\n",
       "      <td>28.0</td>\n",
       "      <td>0.0</td>\n",
       "      <td>248.56</td>\n",
       "      <td></td>\n",
       "    </tr>\n",
       "    <tr>\n",
       "      <th>4</th>\n",
       "      <td>2025-08-28 00:00:00</td>\n",
       "      <td>UPI/P2M/524036618029/BharatPe Merchant\\n/Pay t...</td>\n",
       "      <td>10.0</td>\n",
       "      <td>0.0</td>\n",
       "      <td>238.56</td>\n",
       "      <td></td>\n",
       "    </tr>\n",
       "  </tbody>\n",
       "</table>\n",
       "</div>"
      ],
      "text/plain": [
       "             Tran Date                                        Particulars  \\\n",
       "0  2025-08-27 00:00:00  UPI/P2A/523955727509/N S MURAL/AXIS\\nBANK/Sent...   \n",
       "1  2025-08-27 00:00:00  UPI/P2M/523965745423/Kanti Sweets-SNS Arca/Sen...   \n",
       "2  2025-08-27 00:00:00  UPI/P2M/523916293245/Swiggy Limited       /Pay...   \n",
       "3  2025-08-28 00:00:00  UPI/P2M/524046624617/Chethana M           /Sen...   \n",
       "4  2025-08-28 00:00:00  UPI/P2M/524036618029/BharatPe Merchant\\n/Pay t...   \n",
       "\n",
       "   Debit  Credit  Balance   Category  \n",
       "0    0.0   500.0   544.56             \n",
       "1   35.0     0.0   509.56             \n",
       "2  233.0     0.0   276.56  groceries  \n",
       "3   28.0     0.0   248.56             \n",
       "4   10.0     0.0   238.56             "
      ]
     },
     "execution_count": 52,
     "metadata": {},
     "output_type": "execute_result"
    }
   ],
   "source": [
    "df.head()"
   ]
  },
  {
   "cell_type": "code",
   "execution_count": 56,
   "metadata": {},
   "outputs": [
    {
     "name": "stdout",
     "output_type": "stream",
     "text": [
      "Spending by Category:\n",
      "Travel: 1650.00\n",
      "Outside Food: 1387.11\n",
      "groceries: 1043.00\n",
      "Order Food: 812.00\n",
      "\n",
      "Total spending on food, groceries, and travel: 4892.11\n",
      "This represents 4.84% of total debits (101092.18)\n"
     ]
    }
   ],
   "source": [
    "# Calculate sum of debits by category\n",
    "category_spending = df.groupby('Category')['Debit'].sum().reset_index()\n",
    "\n",
    "# Sort categories by spending (highest to lowest)\n",
    "category_spending = category_spending.sort_values('Debit', ascending=False)\n",
    "\n",
    "# Focus on the specific categories requested\n",
    "target_categories = ['Outside Food', 'Order Food', 'groceries', 'Travel']\n",
    "specific_spending = category_spending[category_spending['Category'].isin(target_categories)]\n",
    "petrol_spending = category_spending[category_spending['Category'] == 'Petrol']['Debit'].sum()\n",
    "\n",
    "print(\"Spending by Category:\")\n",
    "for index, row in specific_spending.iterrows():\n",
    "    print(f\"{row['Category']}: {row['Debit']:.2f}\")\n",
    "\n",
    "# Calculate the total for these specific categories\n",
    "total_spending = specific_spending['Debit'].sum()\n",
    "print(f\"\\nTotal spending on food, groceries, and travel: {total_spending:.2f}\")\n",
    "\n",
    "# Calculate the percentage of spending on these categories compared to total debits\n",
    "total_debits = df['Debit'].sum()\n",
    "percentage = (total_spending / total_debits) * 100 if total_debits > 0 else 0\n",
    "print(f\"This represents {percentage:.2f}% of total debits ({total_debits:.2f})\")"
   ]
  },
  {
   "cell_type": "code",
   "execution_count": null,
   "metadata": {},
   "outputs": [],
   "source": []
  }
 ],
 "metadata": {
  "kernelspec": {
   "display_name": "venv",
   "language": "python",
   "name": "python3"
  },
  "language_info": {
   "codemirror_mode": {
    "name": "ipython",
    "version": 3
   },
   "file_extension": ".py",
   "mimetype": "text/x-python",
   "name": "python",
   "nbconvert_exporter": "python",
   "pygments_lexer": "ipython3",
   "version": "3.13.3"
  }
 },
 "nbformat": 4,
 "nbformat_minor": 2
}
